{
 "cells": [
  {
   "cell_type": "markdown",
   "metadata": {},
   "source": [
    "# Correlating Returns"
   ]
  },
  {
   "cell_type": "code",
   "execution_count": 1,
   "metadata": {
    "scrolled": true
   },
   "outputs": [],
   "source": [
    "import os\n",
    "import pandas as pd\n",
    "from datetime import datetime, timedelta\n",
    "from dotenv import load_dotenv\n",
    "import alpaca_trade_api as tradeapi\n",
    "from newsapi.newsapi_client import NewsApiClient\n",
    "from nltk.sentiment.vader import SentimentIntensityAnalyzer"
   ]
  },
  {
   "cell_type": "markdown",
   "metadata": {},
   "source": [
    "## Load API Keys from Environment Variables"
   ]
  },
  {
   "cell_type": "code",
   "execution_count": 2,
   "metadata": {},
   "outputs": [],
   "source": [
    "# Load .env enviroment variables\n",
    "load_dotenv()\n",
    "\n",
    "# Set News API Key\n",
    "newsapi = NewsApiClient(api_key=os.environ[\"NEWS_API_KEY\"])\n",
    "\n",
    "# Set Alpaca API key and secret\n",
    "alpaca_api_key = os.getenv(\"ALPACA_API_KEY\")\n",
    "alpaca_secret_key = os.getenv(\"ALPACA_SECRET_KEY\")\n",
    "\n",
    "api = tradeapi.REST(alpaca_api_key, alpaca_secret_key, api_version='v2')"
   ]
  },
  {
   "cell_type": "markdown",
   "metadata": {},
   "source": [
    "## Get AAPL Returns for Past Month"
   ]
  },
  {
   "cell_type": "code",
   "execution_count": 3,
   "metadata": {},
   "outputs": [
    {
     "output_type": "execute_result",
     "data": {
      "text/plain": [
       "                             AAPL                                        \n",
       "                             open      high      low     close     volume\n",
       "time                                                                     \n",
       "2021-05-03 00:00:00-04:00  132.01  134.0700  131.830  132.5563   67091433\n",
       "2021-05-04 00:00:00-04:00  131.18  131.4899  126.700  127.9600  120921447\n",
       "2021-05-05 00:00:00-04:00  129.21  130.4500  127.970  128.1600   75396509\n",
       "2021-05-06 00:00:00-04:00  127.90  129.7500  127.130  129.7300   69126356\n",
       "2021-05-07 00:00:00-04:00  130.84  131.2582  129.475  130.2000   67281343"
      ],
      "text/html": "<div>\n<style scoped>\n    .dataframe tbody tr th:only-of-type {\n        vertical-align: middle;\n    }\n\n    .dataframe tbody tr th {\n        vertical-align: top;\n    }\n\n    .dataframe thead tr th {\n        text-align: left;\n    }\n\n    .dataframe thead tr:last-of-type th {\n        text-align: right;\n    }\n</style>\n<table border=\"1\" class=\"dataframe\">\n  <thead>\n    <tr>\n      <th></th>\n      <th colspan=\"5\" halign=\"left\">AAPL</th>\n    </tr>\n    <tr>\n      <th></th>\n      <th>open</th>\n      <th>high</th>\n      <th>low</th>\n      <th>close</th>\n      <th>volume</th>\n    </tr>\n    <tr>\n      <th>time</th>\n      <th></th>\n      <th></th>\n      <th></th>\n      <th></th>\n      <th></th>\n    </tr>\n  </thead>\n  <tbody>\n    <tr>\n      <th>2021-05-03 00:00:00-04:00</th>\n      <td>132.01</td>\n      <td>134.0700</td>\n      <td>131.830</td>\n      <td>132.5563</td>\n      <td>67091433</td>\n    </tr>\n    <tr>\n      <th>2021-05-04 00:00:00-04:00</th>\n      <td>131.18</td>\n      <td>131.4899</td>\n      <td>126.700</td>\n      <td>127.9600</td>\n      <td>120921447</td>\n    </tr>\n    <tr>\n      <th>2021-05-05 00:00:00-04:00</th>\n      <td>129.21</td>\n      <td>130.4500</td>\n      <td>127.970</td>\n      <td>128.1600</td>\n      <td>75396509</td>\n    </tr>\n    <tr>\n      <th>2021-05-06 00:00:00-04:00</th>\n      <td>127.90</td>\n      <td>129.7500</td>\n      <td>127.130</td>\n      <td>129.7300</td>\n      <td>69126356</td>\n    </tr>\n    <tr>\n      <th>2021-05-07 00:00:00-04:00</th>\n      <td>130.84</td>\n      <td>131.2582</td>\n      <td>129.475</td>\n      <td>130.2000</td>\n      <td>67281343</td>\n    </tr>\n  </tbody>\n</table>\n</div>"
     },
     "metadata": {},
     "execution_count": 3
    }
   ],
   "source": [
    "# Set the ticker\n",
    "ticker = \"AAPL\"\n",
    "\n",
    "# Set timeframe to '1D'\n",
    "timeframe = \"1D\"\n",
    "\n",
    "# Set current date and the date from one month ago using the ISO format\n",
    "current_date = pd.Timestamp(datetime.now(), tz=\"America/New_York\").isoformat()\n",
    "past_date = pd.Timestamp(datetime.now()- timedelta(30), tz=\"America/New_York\").isoformat()\n",
    "\n",
    "# Get 4 weeks worth of historical data for AAPL\n",
    "df = api.get_barset(\n",
    "    ticker,\n",
    "    timeframe,\n",
    "    limit=None,\n",
    "    start=past_date,\n",
    "    end=current_date,\n",
    "    after=None,\n",
    "    until=None,\n",
    ").df\n",
    "\n",
    "# Display data\n",
    "df.head()"
   ]
  },
  {
   "cell_type": "code",
   "execution_count": 4,
   "metadata": {},
   "outputs": [
    {
     "output_type": "execute_result",
     "data": {
      "text/plain": [
       "               close\n",
       "2021-05-03  132.5563\n",
       "2021-05-04  127.9600\n",
       "2021-05-05  128.1600\n",
       "2021-05-06  129.7300\n",
       "2021-05-07  130.2000"
      ],
      "text/html": "<div>\n<style scoped>\n    .dataframe tbody tr th:only-of-type {\n        vertical-align: middle;\n    }\n\n    .dataframe tbody tr th {\n        vertical-align: top;\n    }\n\n    .dataframe thead th {\n        text-align: right;\n    }\n</style>\n<table border=\"1\" class=\"dataframe\">\n  <thead>\n    <tr style=\"text-align: right;\">\n      <th></th>\n      <th>close</th>\n    </tr>\n  </thead>\n  <tbody>\n    <tr>\n      <th>2021-05-03</th>\n      <td>132.5563</td>\n    </tr>\n    <tr>\n      <th>2021-05-04</th>\n      <td>127.9600</td>\n    </tr>\n    <tr>\n      <th>2021-05-05</th>\n      <td>128.1600</td>\n    </tr>\n    <tr>\n      <th>2021-05-06</th>\n      <td>129.7300</td>\n    </tr>\n    <tr>\n      <th>2021-05-07</th>\n      <td>130.2000</td>\n    </tr>\n  </tbody>\n</table>\n</div>"
     },
     "metadata": {},
     "execution_count": 4
    }
   ],
   "source": [
    "# Drop Outer Table Level\n",
    "df = df.droplevel(axis=1, level=0)\n",
    "\n",
    "# Use the drop function to drop extra columns\n",
    "df = df.drop(columns=[\"open\", \"high\", \"low\", \"volume\"])\n",
    "\n",
    "# Since this is daily data, we can keep only the date (remove the time) component of the data\n",
    "df.index = df.index.date\n",
    "\n",
    "# Display sample data\n",
    "df.head()"
   ]
  },
  {
   "cell_type": "code",
   "execution_count": 5,
   "metadata": {},
   "outputs": [
    {
     "output_type": "execute_result",
     "data": {
      "text/plain": [
       "               close\n",
       "2021-05-04 -0.034674\n",
       "2021-05-05  0.001563\n",
       "2021-05-06  0.012250\n",
       "2021-05-07  0.003623\n",
       "2021-05-10 -0.025653"
      ],
      "text/html": "<div>\n<style scoped>\n    .dataframe tbody tr th:only-of-type {\n        vertical-align: middle;\n    }\n\n    .dataframe tbody tr th {\n        vertical-align: top;\n    }\n\n    .dataframe thead th {\n        text-align: right;\n    }\n</style>\n<table border=\"1\" class=\"dataframe\">\n  <thead>\n    <tr style=\"text-align: right;\">\n      <th></th>\n      <th>close</th>\n    </tr>\n  </thead>\n  <tbody>\n    <tr>\n      <th>2021-05-04</th>\n      <td>-0.034674</td>\n    </tr>\n    <tr>\n      <th>2021-05-05</th>\n      <td>0.001563</td>\n    </tr>\n    <tr>\n      <th>2021-05-06</th>\n      <td>0.012250</td>\n    </tr>\n    <tr>\n      <th>2021-05-07</th>\n      <td>0.003623</td>\n    </tr>\n    <tr>\n      <th>2021-05-10</th>\n      <td>-0.025653</td>\n    </tr>\n  </tbody>\n</table>\n</div>"
     },
     "metadata": {},
     "execution_count": 5
    }
   ],
   "source": [
    "# Use the `pct_change` function to calculate daily returns of AAPL\n",
    "aapl_returns = df.pct_change().dropna()\n",
    "\n",
    "# Display sample data\n",
    "aapl_returns.head()"
   ]
  },
  {
   "cell_type": "code",
   "execution_count": 6,
   "metadata": {},
   "outputs": [],
   "source": [
    "# Use newsapi client to get most relevant 20 headlines per day in the past month\n",
    "def get_headlines(keyword):\n",
    "    all_headlines = []\n",
    "    all_dates = []    \n",
    "    date = datetime.strptime(current_date[:10], \"%Y-%m-%d\")\n",
    "    end_date = datetime.strptime(past_date[:10], \"%Y-%m-%d\")\n",
    "    print(f\"Fetching news about '{keyword}'\")\n",
    "    print(\"*\" * 30)\n",
    "    while date > end_date:\n",
    "        print(f\"retrieving news from: {date}\")\n",
    "        articles = newsapi.get_everything(\n",
    "            q=keyword,\n",
    "            from_param=str(date)[:10],\n",
    "            to=str(date)[:10],\n",
    "            language=\"en\",\n",
    "            sort_by=\"relevancy\",\n",
    "            page=1,\n",
    "        )\n",
    "        headlines = []\n",
    "        for i in range(0, len(articles[\"articles\"])):\n",
    "            headlines.append(articles[\"articles\"][i][\"title\"])\n",
    "        all_headlines.append(headlines)\n",
    "        all_dates.append(date)\n",
    "        date = date - timedelta(days=1)\n",
    "    return all_headlines, all_dates"
   ]
  },
  {
   "cell_type": "markdown",
   "metadata": {},
   "source": [
    "Note: Be aware that running the 3 requests below will only work once within a 24 hour period due to the request limits imposed by the API provider."
   ]
  },
  {
   "cell_type": "code",
   "execution_count": 7,
   "metadata": {},
   "outputs": [
    {
     "output_type": "stream",
     "name": "stdout",
     "text": [
      "Fetching news about 'apple'\n",
      "******************************\n",
      "retrieving news from: 2021-06-01 00:00:00\n",
      "retrieving news from: 2021-05-31 00:00:00\n",
      "retrieving news from: 2021-05-30 00:00:00\n",
      "retrieving news from: 2021-05-29 00:00:00\n",
      "retrieving news from: 2021-05-28 00:00:00\n",
      "retrieving news from: 2021-05-27 00:00:00\n",
      "retrieving news from: 2021-05-26 00:00:00\n",
      "retrieving news from: 2021-05-25 00:00:00\n",
      "retrieving news from: 2021-05-24 00:00:00\n",
      "retrieving news from: 2021-05-23 00:00:00\n",
      "retrieving news from: 2021-05-22 00:00:00\n",
      "retrieving news from: 2021-05-21 00:00:00\n",
      "retrieving news from: 2021-05-20 00:00:00\n",
      "retrieving news from: 2021-05-19 00:00:00\n",
      "retrieving news from: 2021-05-18 00:00:00\n",
      "retrieving news from: 2021-05-17 00:00:00\n",
      "retrieving news from: 2021-05-16 00:00:00\n",
      "retrieving news from: 2021-05-15 00:00:00\n",
      "retrieving news from: 2021-05-14 00:00:00\n",
      "retrieving news from: 2021-05-13 00:00:00\n",
      "retrieving news from: 2021-05-12 00:00:00\n",
      "retrieving news from: 2021-05-11 00:00:00\n",
      "retrieving news from: 2021-05-10 00:00:00\n",
      "retrieving news from: 2021-05-09 00:00:00\n",
      "retrieving news from: 2021-05-08 00:00:00\n",
      "retrieving news from: 2021-05-07 00:00:00\n",
      "retrieving news from: 2021-05-06 00:00:00\n",
      "retrieving news from: 2021-05-05 00:00:00\n",
      "retrieving news from: 2021-05-04 00:00:00\n",
      "retrieving news from: 2021-05-03 00:00:00\n"
     ]
    }
   ],
   "source": [
    "# Get first topic\n",
    "aapl_headlines, dates = get_headlines(\"apple\")"
   ]
  },
  {
   "cell_type": "code",
   "execution_count": 8,
   "metadata": {},
   "outputs": [
    {
     "output_type": "stream",
     "name": "stdout",
     "text": [
      "Fetching news about 'trade'\n",
      "******************************\n",
      "retrieving news from: 2021-06-01 00:00:00\n",
      "retrieving news from: 2021-05-31 00:00:00\n",
      "retrieving news from: 2021-05-30 00:00:00\n",
      "retrieving news from: 2021-05-29 00:00:00\n",
      "retrieving news from: 2021-05-28 00:00:00\n",
      "retrieving news from: 2021-05-27 00:00:00\n",
      "retrieving news from: 2021-05-26 00:00:00\n",
      "retrieving news from: 2021-05-25 00:00:00\n",
      "retrieving news from: 2021-05-24 00:00:00\n",
      "retrieving news from: 2021-05-23 00:00:00\n",
      "retrieving news from: 2021-05-22 00:00:00\n",
      "retrieving news from: 2021-05-21 00:00:00\n",
      "retrieving news from: 2021-05-20 00:00:00\n",
      "retrieving news from: 2021-05-19 00:00:00\n",
      "retrieving news from: 2021-05-18 00:00:00\n",
      "retrieving news from: 2021-05-17 00:00:00\n",
      "retrieving news from: 2021-05-16 00:00:00\n",
      "retrieving news from: 2021-05-15 00:00:00\n",
      "retrieving news from: 2021-05-14 00:00:00\n",
      "retrieving news from: 2021-05-13 00:00:00\n",
      "retrieving news from: 2021-05-12 00:00:00\n",
      "retrieving news from: 2021-05-11 00:00:00\n",
      "retrieving news from: 2021-05-10 00:00:00\n",
      "retrieving news from: 2021-05-09 00:00:00\n",
      "retrieving news from: 2021-05-08 00:00:00\n",
      "retrieving news from: 2021-05-07 00:00:00\n",
      "retrieving news from: 2021-05-06 00:00:00\n",
      "retrieving news from: 2021-05-05 00:00:00\n",
      "retrieving news from: 2021-05-04 00:00:00\n",
      "retrieving news from: 2021-05-03 00:00:00\n"
     ]
    }
   ],
   "source": [
    "# Get second topic\n",
    "trade_headlines, _ = get_headlines(\"trade\")"
   ]
  },
  {
   "cell_type": "code",
   "execution_count": 9,
   "metadata": {},
   "outputs": [
    {
     "output_type": "stream",
     "name": "stdout",
     "text": [
      "Fetching news about 'economy'\n",
      "******************************\n",
      "retrieving news from: 2021-06-01 00:00:00\n",
      "retrieving news from: 2021-05-31 00:00:00\n",
      "retrieving news from: 2021-05-30 00:00:00\n",
      "retrieving news from: 2021-05-29 00:00:00\n",
      "retrieving news from: 2021-05-28 00:00:00\n",
      "retrieving news from: 2021-05-27 00:00:00\n",
      "retrieving news from: 2021-05-26 00:00:00\n",
      "retrieving news from: 2021-05-25 00:00:00\n",
      "retrieving news from: 2021-05-24 00:00:00\n",
      "retrieving news from: 2021-05-23 00:00:00\n",
      "retrieving news from: 2021-05-22 00:00:00\n",
      "retrieving news from: 2021-05-21 00:00:00\n",
      "retrieving news from: 2021-05-20 00:00:00\n",
      "retrieving news from: 2021-05-19 00:00:00\n",
      "retrieving news from: 2021-05-18 00:00:00\n",
      "retrieving news from: 2021-05-17 00:00:00\n",
      "retrieving news from: 2021-05-16 00:00:00\n",
      "retrieving news from: 2021-05-15 00:00:00\n",
      "retrieving news from: 2021-05-14 00:00:00\n",
      "retrieving news from: 2021-05-13 00:00:00\n",
      "retrieving news from: 2021-05-12 00:00:00\n",
      "retrieving news from: 2021-05-11 00:00:00\n",
      "retrieving news from: 2021-05-10 00:00:00\n",
      "retrieving news from: 2021-05-09 00:00:00\n",
      "retrieving news from: 2021-05-08 00:00:00\n",
      "retrieving news from: 2021-05-07 00:00:00\n",
      "retrieving news from: 2021-05-06 00:00:00\n",
      "retrieving news from: 2021-05-05 00:00:00\n",
      "retrieving news from: 2021-05-04 00:00:00\n",
      "retrieving news from: 2021-05-03 00:00:00\n"
     ]
    }
   ],
   "source": [
    "# Get third topic\n",
    "economy_headlines, _ = get_headlines(\"economy\")\n"
   ]
  },
  {
   "cell_type": "code",
   "execution_count": 10,
   "metadata": {},
   "outputs": [],
   "source": [
    "# Instantiate SentimentIntensityAnalyzer\n",
    "sid = SentimentIntensityAnalyzer()"
   ]
  },
  {
   "cell_type": "code",
   "execution_count": 11,
   "metadata": {},
   "outputs": [],
   "source": [
    "# Create function that computes average compound sentiment of headlines for each day\n",
    "def headline_sentiment_summarizer_avg(headlines):\n",
    "    sentiment = []\n",
    "    for day in headlines:\n",
    "        day_score = []\n",
    "        for h in day:\n",
    "            if h == None:\n",
    "                continue\n",
    "            else:\n",
    "                day_score.append(sid.polarity_scores(h)[\"compound\"])\n",
    "        sentiment.append(sum(day_score) / len(day_score))\n",
    "    return sentiment"
   ]
  },
  {
   "cell_type": "code",
   "execution_count": 12,
   "metadata": {},
   "outputs": [],
   "source": [
    "# Get averages of each topics sentiment\n",
    "aapl_avg = headline_sentiment_summarizer_avg(aapl_headlines)\n",
    "trade_avg = headline_sentiment_summarizer_avg(trade_headlines)\n",
    "economy_avg = headline_sentiment_summarizer_avg(economy_headlines)\n"
   ]
  },
  {
   "cell_type": "code",
   "execution_count": 13,
   "metadata": {},
   "outputs": [],
   "source": [
    "# Combine Sentiment Averages into DataFrame\n",
    "topic_sentiments = pd.DataFrame(\n",
    "    {\n",
    "        \"aapl_avg\": aapl_avg,\n",
    "        \"trade_avg\": trade_avg,\n",
    "        \"economy_avg\": economy_avg,\n",
    "    }\n",
    ")"
   ]
  },
  {
   "cell_type": "code",
   "execution_count": 14,
   "metadata": {
    "scrolled": true
   },
   "outputs": [],
   "source": [
    "# Set the index value of the sentiment averages DataFrame to be the series of dates.\n",
    "topic_sentiments.index = pd.to_datetime(dates)"
   ]
  },
  {
   "cell_type": "code",
   "execution_count": 15,
   "metadata": {},
   "outputs": [
    {
     "output_type": "display_data",
     "data": {
      "text/plain": "               close  aapl_avg  trade_avg  economy_avg\n2021-05-04 -0.034674 -0.059090   0.027725     0.067940\n2021-05-05  0.001563  0.030695   0.235545     0.070455\n2021-05-06  0.012250  0.023745   0.087440     0.185910\n2021-05-07  0.003623  0.043780   0.031275     0.126250\n2021-05-10 -0.025653  0.054810   0.000210     0.077380\n2021-05-11 -0.007962  0.174040   0.224295     0.137345\n2021-05-12 -0.024076  0.047090  -0.029085    -0.065995\n2021-05-13  0.017262  0.001220   0.036290    -0.084570\n2021-05-14  0.019609  0.055005  -0.008860    -0.084060\n2021-05-17 -0.008870  0.039880   0.012225    -0.013745\n2021-05-18 -0.011167  0.034155   0.042350     0.184525\n2021-05-19 -0.001282  0.072925   0.113970     0.022225\n2021-05-20  0.021012  0.197010  -0.024540    -0.024755\n2021-05-21 -0.014767  0.017100   0.078310     0.099140\n2021-05-24  0.013314  0.167080  -0.071220     0.078570\n2021-05-25 -0.001338 -0.037460   0.123550     0.128835\n2021-05-26 -0.000630 -0.033165   0.036560     0.163740\n2021-05-27 -0.011037  0.090925   0.002995     0.130005\n2021-05-28 -0.006616 -0.070870  -0.011125    -0.033405\n2021-06-01 -0.002568  0.190010   0.059925     0.105050",
      "text/html": "<div>\n<style scoped>\n    .dataframe tbody tr th:only-of-type {\n        vertical-align: middle;\n    }\n\n    .dataframe tbody tr th {\n        vertical-align: top;\n    }\n\n    .dataframe thead th {\n        text-align: right;\n    }\n</style>\n<table border=\"1\" class=\"dataframe\">\n  <thead>\n    <tr style=\"text-align: right;\">\n      <th></th>\n      <th>close</th>\n      <th>aapl_avg</th>\n      <th>trade_avg</th>\n      <th>economy_avg</th>\n    </tr>\n  </thead>\n  <tbody>\n    <tr>\n      <th>2021-05-04</th>\n      <td>-0.034674</td>\n      <td>-0.059090</td>\n      <td>0.027725</td>\n      <td>0.067940</td>\n    </tr>\n    <tr>\n      <th>2021-05-05</th>\n      <td>0.001563</td>\n      <td>0.030695</td>\n      <td>0.235545</td>\n      <td>0.070455</td>\n    </tr>\n    <tr>\n      <th>2021-05-06</th>\n      <td>0.012250</td>\n      <td>0.023745</td>\n      <td>0.087440</td>\n      <td>0.185910</td>\n    </tr>\n    <tr>\n      <th>2021-05-07</th>\n      <td>0.003623</td>\n      <td>0.043780</td>\n      <td>0.031275</td>\n      <td>0.126250</td>\n    </tr>\n    <tr>\n      <th>2021-05-10</th>\n      <td>-0.025653</td>\n      <td>0.054810</td>\n      <td>0.000210</td>\n      <td>0.077380</td>\n    </tr>\n    <tr>\n      <th>2021-05-11</th>\n      <td>-0.007962</td>\n      <td>0.174040</td>\n      <td>0.224295</td>\n      <td>0.137345</td>\n    </tr>\n    <tr>\n      <th>2021-05-12</th>\n      <td>-0.024076</td>\n      <td>0.047090</td>\n      <td>-0.029085</td>\n      <td>-0.065995</td>\n    </tr>\n    <tr>\n      <th>2021-05-13</th>\n      <td>0.017262</td>\n      <td>0.001220</td>\n      <td>0.036290</td>\n      <td>-0.084570</td>\n    </tr>\n    <tr>\n      <th>2021-05-14</th>\n      <td>0.019609</td>\n      <td>0.055005</td>\n      <td>-0.008860</td>\n      <td>-0.084060</td>\n    </tr>\n    <tr>\n      <th>2021-05-17</th>\n      <td>-0.008870</td>\n      <td>0.039880</td>\n      <td>0.012225</td>\n      <td>-0.013745</td>\n    </tr>\n    <tr>\n      <th>2021-05-18</th>\n      <td>-0.011167</td>\n      <td>0.034155</td>\n      <td>0.042350</td>\n      <td>0.184525</td>\n    </tr>\n    <tr>\n      <th>2021-05-19</th>\n      <td>-0.001282</td>\n      <td>0.072925</td>\n      <td>0.113970</td>\n      <td>0.022225</td>\n    </tr>\n    <tr>\n      <th>2021-05-20</th>\n      <td>0.021012</td>\n      <td>0.197010</td>\n      <td>-0.024540</td>\n      <td>-0.024755</td>\n    </tr>\n    <tr>\n      <th>2021-05-21</th>\n      <td>-0.014767</td>\n      <td>0.017100</td>\n      <td>0.078310</td>\n      <td>0.099140</td>\n    </tr>\n    <tr>\n      <th>2021-05-24</th>\n      <td>0.013314</td>\n      <td>0.167080</td>\n      <td>-0.071220</td>\n      <td>0.078570</td>\n    </tr>\n    <tr>\n      <th>2021-05-25</th>\n      <td>-0.001338</td>\n      <td>-0.037460</td>\n      <td>0.123550</td>\n      <td>0.128835</td>\n    </tr>\n    <tr>\n      <th>2021-05-26</th>\n      <td>-0.000630</td>\n      <td>-0.033165</td>\n      <td>0.036560</td>\n      <td>0.163740</td>\n    </tr>\n    <tr>\n      <th>2021-05-27</th>\n      <td>-0.011037</td>\n      <td>0.090925</td>\n      <td>0.002995</td>\n      <td>0.130005</td>\n    </tr>\n    <tr>\n      <th>2021-05-28</th>\n      <td>-0.006616</td>\n      <td>-0.070870</td>\n      <td>-0.011125</td>\n      <td>-0.033405</td>\n    </tr>\n    <tr>\n      <th>2021-06-01</th>\n      <td>-0.002568</td>\n      <td>0.190010</td>\n      <td>0.059925</td>\n      <td>0.105050</td>\n    </tr>\n  </tbody>\n</table>\n</div>"
     },
     "metadata": {}
    }
   ],
   "source": [
    "# Merge with AAPL returns\n",
    "topic_sentiments = aapl_returns.join(topic_sentiments).dropna(how=\"any\")\n",
    "\n",
    "# Display data\n",
    "display(topic_sentiments)"
   ]
  },
  {
   "cell_type": "code",
   "execution_count": 16,
   "metadata": {},
   "outputs": [
    {
     "output_type": "execute_result",
     "data": {
      "text/plain": [
       "<pandas.io.formats.style.Styler at 0x7f2e32982a90>"
      ],
      "text/html": "<style  type=\"text/css\" >\n#T_ead26eca_c349_11eb_9b26_9136b0020859row0_col0,#T_ead26eca_c349_11eb_9b26_9136b0020859row1_col1,#T_ead26eca_c349_11eb_9b26_9136b0020859row2_col2,#T_ead26eca_c349_11eb_9b26_9136b0020859row3_col3{\n            background-color:  #023858;\n            color:  #f1f1f1;\n        }#T_ead26eca_c349_11eb_9b26_9136b0020859row0_col1{\n            background-color:  #b4c4df;\n            color:  #000000;\n        }#T_ead26eca_c349_11eb_9b26_9136b0020859row0_col2,#T_ead26eca_c349_11eb_9b26_9136b0020859row0_col3,#T_ead26eca_c349_11eb_9b26_9136b0020859row2_col1,#T_ead26eca_c349_11eb_9b26_9136b0020859row3_col0{\n            background-color:  #fff7fb;\n            color:  #000000;\n        }#T_ead26eca_c349_11eb_9b26_9136b0020859row1_col0{\n            background-color:  #91b5d6;\n            color:  #000000;\n        }#T_ead26eca_c349_11eb_9b26_9136b0020859row1_col2{\n            background-color:  #fef6fa;\n            color:  #000000;\n        }#T_ead26eca_c349_11eb_9b26_9136b0020859row1_col3{\n            background-color:  #e0dded;\n            color:  #000000;\n        }#T_ead26eca_c349_11eb_9b26_9136b0020859row2_col0{\n            background-color:  #eae6f1;\n            color:  #000000;\n        }#T_ead26eca_c349_11eb_9b26_9136b0020859row2_col3{\n            background-color:  #7dacd1;\n            color:  #000000;\n        }#T_ead26eca_c349_11eb_9b26_9136b0020859row3_col1{\n            background-color:  #f8f1f8;\n            color:  #000000;\n        }#T_ead26eca_c349_11eb_9b26_9136b0020859row3_col2{\n            background-color:  #9ebad9;\n            color:  #000000;\n        }</style><table id=\"T_ead26eca_c349_11eb_9b26_9136b0020859\" ><thead>    <tr>        <th class=\"blank level0\" ></th>        <th class=\"col_heading level0 col0\" >close</th>        <th class=\"col_heading level0 col1\" >aapl_avg</th>        <th class=\"col_heading level0 col2\" >trade_avg</th>        <th class=\"col_heading level0 col3\" >economy_avg</th>    </tr></thead><tbody>\n                <tr>\n                        <th id=\"T_ead26eca_c349_11eb_9b26_9136b0020859level0_row0\" class=\"row_heading level0 row0\" >close</th>\n                        <td id=\"T_ead26eca_c349_11eb_9b26_9136b0020859row0_col0\" class=\"data row0 col0\" >1.000000</td>\n                        <td id=\"T_ead26eca_c349_11eb_9b26_9136b0020859row0_col1\" class=\"data row0 col1\" >0.319426</td>\n                        <td id=\"T_ead26eca_c349_11eb_9b26_9136b0020859row0_col2\" class=\"data row0 col2\" >-0.030658</td>\n                        <td id=\"T_ead26eca_c349_11eb_9b26_9136b0020859row0_col3\" class=\"data row0 col3\" >-0.190842</td>\n            </tr>\n            <tr>\n                        <th id=\"T_ead26eca_c349_11eb_9b26_9136b0020859level0_row1\" class=\"row_heading level0 row1\" >aapl_avg</th>\n                        <td id=\"T_ead26eca_c349_11eb_9b26_9136b0020859row1_col0\" class=\"data row1 col0\" >0.319426</td>\n                        <td id=\"T_ead26eca_c349_11eb_9b26_9136b0020859row1_col1\" class=\"data row1 col1\" >1.000000</td>\n                        <td id=\"T_ead26eca_c349_11eb_9b26_9136b0020859row1_col2\" class=\"data row1 col2\" >-0.021550</td>\n                        <td id=\"T_ead26eca_c349_11eb_9b26_9136b0020859row1_col3\" class=\"data row1 col3\" >0.027318</td>\n            </tr>\n            <tr>\n                        <th id=\"T_ead26eca_c349_11eb_9b26_9136b0020859level0_row2\" class=\"row_heading level0 row2\" >trade_avg</th>\n                        <td id=\"T_ead26eca_c349_11eb_9b26_9136b0020859row2_col0\" class=\"data row2 col0\" >-0.030658</td>\n                        <td id=\"T_ead26eca_c349_11eb_9b26_9136b0020859row2_col1\" class=\"data row2 col1\" >-0.021550</td>\n                        <td id=\"T_ead26eca_c349_11eb_9b26_9136b0020859row2_col2\" class=\"data row2 col2\" >1.000000</td>\n                        <td id=\"T_ead26eca_c349_11eb_9b26_9136b0020859row2_col3\" class=\"data row2 col3\" >0.377090</td>\n            </tr>\n            <tr>\n                        <th id=\"T_ead26eca_c349_11eb_9b26_9136b0020859level0_row3\" class=\"row_heading level0 row3\" >economy_avg</th>\n                        <td id=\"T_ead26eca_c349_11eb_9b26_9136b0020859row3_col0\" class=\"data row3 col0\" >-0.190842</td>\n                        <td id=\"T_ead26eca_c349_11eb_9b26_9136b0020859row3_col1\" class=\"data row3 col1\" >0.027318</td>\n                        <td id=\"T_ead26eca_c349_11eb_9b26_9136b0020859row3_col2\" class=\"data row3 col2\" >0.377090</td>\n                        <td id=\"T_ead26eca_c349_11eb_9b26_9136b0020859row3_col3\" class=\"data row3 col3\" >1.000000</td>\n            </tr>\n    </tbody></table>"
     },
     "metadata": {},
     "execution_count": 16
    }
   ],
   "source": [
    "# Correlate the headlines' sentiment to returns\n",
    "topic_sentiments.corr().style.background_gradient()"
   ]
  },
  {
   "cell_type": "code",
   "execution_count": null,
   "metadata": {},
   "outputs": [],
   "source": []
  }
 ],
 "metadata": {
  "file_extension": ".py",
  "kernelspec": {
   "name": "python369jvsc74a57bd0a8383eef294e6eb532b9a275f580f77018a4c5ddf6bd4ca154421d62e44b7362",
   "display_name": "Python 3.6.9 64-bit ('base': conda)"
  },
  "language_info": {
   "codemirror_mode": {
    "name": "ipython",
    "version": 3
   },
   "file_extension": ".py",
   "mimetype": "text/x-python",
   "name": "python",
   "nbconvert_exporter": "python",
   "pygments_lexer": "ipython3",
   "version": "3.6.9"
  },
  "mimetype": "text/x-python",
  "name": "python",
  "npconvert_exporter": "python",
  "pygments_lexer": "ipython3",
  "version": 3
 },
 "nbformat": 4,
 "nbformat_minor": 4
}
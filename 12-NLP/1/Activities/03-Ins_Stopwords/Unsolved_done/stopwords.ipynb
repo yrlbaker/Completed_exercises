{
 "cells": [
  {
   "cell_type": "markdown",
   "metadata": {},
   "source": [
    "# Stopwords\n",
    "Stopwords are non-informative words that we want to take out of the text before performing analysis on it. Luckily, NLTK has a ready-made list of such words that we can use to preprocess text...but is this enough?"
   ]
  },
  {
   "cell_type": "code",
   "execution_count": 32,
   "metadata": {},
   "outputs": [
    {
     "output_type": "stream",
     "name": "stderr",
     "text": [
      "[nltk_data] Downloading package stopwords to\n[nltk_data]     C:\\Users\\Admin\\AppData\\Roaming\\nltk_data...\n[nltk_data]   Package stopwords is already up-to-date!\n[nltk_data] Downloading package reuters to\n[nltk_data]     C:\\Users\\Admin\\AppData\\Roaming\\nltk_data...\n[nltk_data]   Package reuters is already up-to-date!\n[nltk_data] Downloading package punkt to\n[nltk_data]     C:\\Users\\Admin\\AppData\\Roaming\\nltk_data...\n[nltk_data]   Package punkt is already up-to-date!\n"
     ]
    },
    {
     "output_type": "execute_result",
     "data": {
      "text/plain": [
       "True"
      ]
     },
     "metadata": {},
     "execution_count": 32
    }
   ],
   "source": [
    "from nltk.corpus import reuters, stopwords\n",
    "from nltk.tokenize import word_tokenize, sent_tokenize\n",
    "\n",
    "# Code to download corpora\n",
    "import nltk\n",
    "nltk.download(\"stopwords\")\n",
    "nltk.download(\"reuters\")\n",
    "nltk.download(\"punkt\")"
   ]
  },
  {
   "cell_type": "code",
   "execution_count": 35,
   "metadata": {},
   "outputs": [
    {
     "output_type": "execute_result",
     "data": {
      "text/plain": [
       "'test/15230'"
      ]
     },
     "metadata": {},
     "execution_count": 35
    }
   ],
   "source": [
    "# Find the fourth article about crude oil from reuters\n",
    "reuters.fileids(categories=\"crude\")[3]"
   ]
  },
  {
   "cell_type": "code",
   "execution_count": 36,
   "metadata": {},
   "outputs": [
    {
     "output_type": "stream",
     "name": "stdout",
     "text": [
      "IRAQI TROOPS REPORTED PUSHING BACK IRANIANS\n  Iraq said today its troops were pushing\n  Iranian forces out of positions they had initially occupied\n  when they launched a new offensive near the southern port of\n  Basra early yesterday.\n      A High Command communique said Iraqi troops had won a\n  significant victory and were continuing to advance.\n      Iraq said it had foiled a three-pronged thrust some 10 km\n  (six miles) from Basra, but admitted the Iranians had occupied\n  ground held by the Mohammed al-Qassem unit, one of three\n  divisions attacked.\n      The communique said Iranian Revolutionary Guards were under\n  assault from warplanes, helicopter gunships, heavy artillery\n  and tanks.\n      \"Our forces are continuing their advance until they purge\n  the last foothold\" occupied by the Iranians, it said.\n      (Iran said its troops had killed or wounded more than 4,000\n  Iraqis and were stabilising their new positions.)\n      The Baghdad communique said Iraqi planes also destroyed oil\n  installations at Iran's southwestern Ahvaz field during a raid\n  today. It denied an Iranian report that an Iraqi jet was shot\n  down.\n      Iraq also reported a naval battle at the northern tip of\n  the Gulf. Iraqi naval units and forces defending an offshore\n  terminal sank six Iranian out of 28 Iranian boats attempting to\n  attack an offshore terminal, the communique said.\n  \n\n\n"
     ]
    }
   ],
   "source": [
    "article_rand = reuters.raw(\"test/15230\")\n",
    "print(article_rand)"
   ]
  },
  {
   "cell_type": "code",
   "execution_count": 37,
   "metadata": {},
   "outputs": [],
   "source": [
    "# Locate the fourth article about crude oil\n",
    "article_rand = reuters.raw(fileids=reuters.fileids(categories=\"crude\")[3])"
   ]
  },
  {
   "cell_type": "code",
   "execution_count": 38,
   "metadata": {},
   "outputs": [
    {
     "output_type": "stream",
     "name": "stdout",
     "text": [
      "Iraq said it had foiled a three-pronged thrust some 10 km\n  (six miles) from Basra, but admitted the Iranians had occupied\n  ground held by the Mohammed al-Qassem unit, one of three\n  divisions attacked.\n"
     ]
    }
   ],
   "source": [
    "# Sentence tokenize the article and store third sentence\n",
    "sentence = sent_tokenize(article_rand)[2]\n",
    "print(sentence)"
   ]
  },
  {
   "cell_type": "code",
   "execution_count": 39,
   "metadata": {},
   "outputs": [
    {
     "output_type": "stream",
     "name": "stdout",
     "text": [
      "['Iraq', 'said', 'it', 'had', 'foiled', 'a', 'three-pronged', 'thrust', 'some', '10', 'km', '(', 'six', 'miles', ')', 'from', 'Basra', ',', 'but', 'admitted', 'the', 'Iranians', 'had', 'occupied', 'ground', 'held', 'by', 'the', 'Mohammed', 'al-Qassem', 'unit', ',', 'one', 'of', 'three', 'divisions', 'attacked', '.']\n"
     ]
    }
   ],
   "source": [
    "# Word tokenize the sentence \n",
    "words = word_tokenize(sentence)\n",
    "print(words)"
   ]
  },
  {
   "cell_type": "markdown",
   "metadata": {},
   "source": [
    "## NLTK Stopwords"
   ]
  },
  {
   "cell_type": "code",
   "execution_count": 40,
   "metadata": {
    "scrolled": true
   },
   "outputs": [
    {
     "output_type": "stream",
     "name": "stdout",
     "text": [
      "['и', 'в', 'во', 'не', 'что', 'он', 'на', 'я', 'с', 'со', 'как', 'а', 'то', 'все', 'она', 'так', 'его', 'но', 'да', 'ты', 'к', 'у', 'же', 'вы', 'за', 'бы', 'по', 'только', 'ее', 'мне', 'было', 'вот', 'от', 'меня', 'еще', 'нет', 'о', 'из', 'ему', 'теперь', 'когда', 'даже', 'ну', 'вдруг', 'ли', 'если', 'уже', 'или', 'ни', 'быть', 'был', 'него', 'до', 'вас', 'нибудь', 'опять', 'уж', 'вам', 'ведь', 'там', 'потом', 'себя', 'ничего', 'ей', 'может', 'они', 'тут', 'где', 'есть', 'надо', 'ней', 'для', 'мы', 'тебя', 'их', 'чем', 'была', 'сам', 'чтоб', 'без', 'будто', 'чего', 'раз', 'тоже', 'себе', 'под', 'будет', 'ж', 'тогда', 'кто', 'этот', 'того', 'потому', 'этого', 'какой', 'совсем', 'ним', 'здесь', 'этом', 'один', 'почти', 'мой', 'тем', 'чтобы', 'нее', 'сейчас', 'были', 'куда', 'зачем', 'всех', 'никогда', 'можно', 'при', 'наконец', 'два', 'об', 'другой', 'хоть', 'после', 'над', 'больше', 'тот', 'через', 'эти', 'нас', 'про', 'всего', 'них', 'какая', 'много', 'разве', 'три', 'эту', 'моя', 'впрочем', 'хорошо', 'свою', 'этой', 'перед', 'иногда', 'лучше', 'чуть', 'том', 'нельзя', 'такой', 'им', 'более', 'всегда', 'конечно', 'всю', 'между']\n"
     ]
    }
   ],
   "source": [
    "# NLTK list of stopwords\n",
    "print(stopwords.words(\"russian\"))\n"
   ]
  },
  {
   "cell_type": "code",
   "execution_count": 41,
   "metadata": {},
   "outputs": [
    {
     "output_type": "stream",
     "name": "stdout",
     "text": [
      "['i', 'me', 'my', 'myself', 'we', 'our', 'ours', 'ourselves', 'you', \"you're\", \"you've\", \"you'll\", \"you'd\", 'your', 'yours', 'yourself', 'yourselves', 'he', 'him', 'his', 'himself', 'she', \"she's\", 'her', 'hers', 'herself', 'it', \"it's\", 'its', 'itself', 'they', 'them', 'their', 'theirs', 'themselves', 'what', 'which', 'who', 'whom', 'this', 'that', \"that'll\", 'these', 'those', 'am', 'is', 'are', 'was', 'were', 'be', 'been', 'being', 'have', 'has', 'had', 'having', 'do', 'does', 'did', 'doing', 'a', 'an', 'the', 'and', 'but', 'if', 'or', 'because', 'as', 'until', 'while', 'of', 'at', 'by', 'for', 'with', 'about', 'against', 'between', 'into', 'through', 'during', 'before', 'after', 'above', 'below', 'to', 'from', 'up', 'down', 'in', 'out', 'on', 'off', 'over', 'under', 'again', 'further', 'then', 'once', 'here', 'there', 'when', 'where', 'why', 'how', 'all', 'any', 'both', 'each', 'few', 'more', 'most', 'other', 'some', 'such', 'no', 'nor', 'not', 'only', 'own', 'same', 'so', 'than', 'too', 'very', 's', 't', 'can', 'will', 'just', 'don', \"don't\", 'should', \"should've\", 'now', 'd', 'll', 'm', 'o', 're', 've', 'y', 'ain', 'aren', \"aren't\", 'couldn', \"couldn't\", 'didn', \"didn't\", 'doesn', \"doesn't\", 'hadn', \"hadn't\", 'hasn', \"hasn't\", 'haven', \"haven't\", 'isn', \"isn't\", 'ma', 'mightn', \"mightn't\", 'mustn', \"mustn't\", 'needn', \"needn't\", 'shan', \"shan't\", 'shouldn', \"shouldn't\", 'wasn', \"wasn't\", 'weren', \"weren't\", 'won', \"won't\", 'wouldn', \"wouldn't\"]\n"
     ]
    }
   ],
   "source": [
    "print(stopwords.words(\"english\"))"
   ]
  },
  {
   "cell_type": "code",
   "execution_count": 42,
   "metadata": {},
   "outputs": [],
   "source": [
    "# Remove stop words\n",
    "stop_w = set(stopwords.words(\"english\"))\n",
    "word_result = [word.lower() for word in words if word.lower() not in stop_w]"
   ]
  },
  {
   "cell_type": "code",
   "execution_count": 43,
   "metadata": {},
   "outputs": [
    {
     "output_type": "stream",
     "name": "stdout",
     "text": [
      "['iraq', 'said', 'foiled', 'three-pronged', 'thrust', '10', 'km', '(', 'six', 'miles', ')', 'basra', ',', 'admitted', 'iranians', 'occupied', 'ground', 'held', 'mohammed', 'al-qassem', 'unit', ',', 'one', 'three', 'divisions', 'attacked', '.']\n"
     ]
    }
   ],
   "source": [
    "print(word_result)"
   ]
  },
  {
   "cell_type": "code",
   "execution_count": 44,
   "metadata": {},
   "outputs": [],
   "source": [
    "# We can define our own list of stopwords to add to the default nltk words\n",
    "addtl_stop_w = {\"said\", \"'\", \",\", \".\", \"(\", \")\"}\n",
    "addtl_result = [word.lower() for word in words if word.lower() not in addtl_stop_w]"
   ]
  },
  {
   "cell_type": "code",
   "execution_count": 45,
   "metadata": {},
   "outputs": [
    {
     "output_type": "stream",
     "name": "stdout",
     "text": [
      "['iraq', 'it', 'had', 'foiled', 'a', 'three-pronged', 'thrust', 'some', '10', 'km', 'six', 'miles', 'from', 'basra', 'but', 'admitted', 'the', 'iranians', 'had', 'occupied', 'ground', 'held', 'by', 'the', 'mohammed', 'al-qassem', 'unit', 'one', 'of', 'three', 'divisions', 'attacked']\n"
     ]
    }
   ],
   "source": [
    "print(addtl_result)"
   ]
  },
  {
   "cell_type": "markdown",
   "metadata": {},
   "source": [
    "## Getting Rid of Non-Alpha Characters: Regex"
   ]
  },
  {
   "cell_type": "code",
   "execution_count": 46,
   "metadata": {},
   "outputs": [],
   "source": [
    "# Import regular expressions library\n",
    "import re"
   ]
  },
  {
   "cell_type": "code",
   "execution_count": 54,
   "metadata": {},
   "outputs": [
    {
     "output_type": "stream",
     "name": "stdout",
     "text": [
      "Iraq said it had foiled a threepronged thrust some  km  six miles from Basra but admitted the Iranians had occupied  ground held by the Mohammed alQassem unit one of three  divisions attacked\n"
     ]
    }
   ],
   "source": [
    "# Substitute everything that is NOT a letter with empty string\n",
    "sub_ltr = re.compile(\"[^a-zA-Z ]\")\n",
    "clean_num = sub_ltr.sub('', sentence)\n",
    "print(clean_num)"
   ]
  },
  {
   "cell_type": "code",
   "execution_count": 56,
   "metadata": {},
   "outputs": [
    {
     "output_type": "stream",
     "name": "stdout",
     "text": [
      "['iraq', 'said', 'foiled', 'three-pronged', 'thrust', '10', 'km', '(', 'six', 'miles', ')', 'basra', ',', 'admitted', 'iranians', 'occupied', 'ground', 'held', 'mohammed', 'al-qassem', 'unit', ',', 'one', 'three', 'divisions', 'attacked', '.']\n"
     ]
    }
   ],
   "source": [
    "# Remove stop words\n",
    "stop_w = set(stopwords.words(\"english\"))\n",
    "word_result = [word.lower() for word in words if word.lower() not in stop_w]\n",
    "print(word_result)"
   ]
  },
  {
   "cell_type": "code",
   "execution_count": null,
   "metadata": {},
   "outputs": [],
   "source": []
  }
 ],
 "metadata": {
  "kernelspec": {
   "name": "python3",
   "display_name": "Python 3.8.5 64-bit ('base': conda)"
  },
  "language_info": {
   "codemirror_mode": {
    "name": "ipython",
    "version": 3
   },
   "file_extension": ".py",
   "mimetype": "text/x-python",
   "name": "python",
   "nbconvert_exporter": "python",
   "pygments_lexer": "ipython3",
   "version": "3.8.5"
  },
  "interpreter": {
   "hash": "183bbf6827d058c2a2fb0f4acdc0420849dda2b4380af0e437e38c64d798d8b7"
  }
 },
 "nbformat": 4,
 "nbformat_minor": 2
}